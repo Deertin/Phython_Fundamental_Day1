{
 "cells": [
  {
   "cell_type": "code",
   "execution_count": 14,
   "id": "8ff14934",
   "metadata": {},
   "outputs": [],
   "source": [
    "firstname ='Deeran'\n",
    "Lastname ='Tintu'"
   ]
  },
  {
   "cell_type": "code",
   "execution_count": 16,
   "id": "c2804a03",
   "metadata": {},
   "outputs": [
    {
     "name": "stdout",
     "output_type": "stream",
     "text": [
      "Deeran Tintu\n"
     ]
    }
   ],
   "source": [
    "fullname = f\"{firstname} {Lastname}\"\n",
    "print(fullname)"
   ]
  },
  {
   "cell_type": "code",
   "execution_count": 17,
   "id": "3cb99f99",
   "metadata": {},
   "outputs": [
    {
     "name": "stdout",
     "output_type": "stream",
     "text": [
      "Good Students,Deeran Tintu\n"
     ]
    }
   ],
   "source": [
    "message = f\"Good Students,{fullname}\"\n",
    "print(message)"
   ]
  },
  {
   "cell_type": "code",
   "execution_count": 18,
   "id": "740351ec",
   "metadata": {},
   "outputs": [
    {
     "name": "stdout",
     "output_type": "stream",
     "text": [
      "Fav_Singers:AnirundhSPBIllayarajaAnudradhaSid\n"
     ]
    }
   ],
   "source": [
    "print(\"Fav_Singers:AnirundhSPBIllayarajaAnudradhaSid\")"
   ]
  },
  {
   "cell_type": "code",
   "execution_count": 19,
   "id": "0d74cd9d",
   "metadata": {},
   "outputs": [
    {
     "name": "stdout",
     "output_type": "stream",
     "text": [
      "Fav_Singers:\n",
      "Anirundh\n",
      "SPB\n",
      "Illayaraja\n",
      "Anudradha\n",
      "Sid\n"
     ]
    }
   ],
   "source": [
    "print(\"Fav_Singers:\\nAnirundh\\nSPB\\nIllayaraja\\nAnudradha\\nSid\")"
   ]
  },
  {
   "cell_type": "code",
   "execution_count": 20,
   "id": "f7c6c470",
   "metadata": {},
   "outputs": [
    {
     "name": "stdout",
     "output_type": "stream",
     "text": [
      "Fav_Singers:\n",
      "\tAnirundh\n",
      "\tSPB\n",
      "\tIllayaraja\n",
      "\tAnudradha\n",
      "\tSid\n"
     ]
    }
   ],
   "source": [
    "print(\"Fav_Singers:\\n\\tAnirundh\\n\\tSPB\\n\\tIllayaraja\\n\\tAnudradha\\n\\tSid\")"
   ]
  },
  {
   "cell_type": "code",
   "execution_count": 21,
   "id": "2204fa88",
   "metadata": {},
   "outputs": [
    {
     "name": "stdout",
     "output_type": "stream",
     "text": [
      " Deeran\n"
     ]
    }
   ],
   "source": [
    "Name = ' Deeran'\n",
    "print(Name)"
   ]
  },
  {
   "cell_type": "code",
   "execution_count": 22,
   "id": "32ecd505",
   "metadata": {},
   "outputs": [
    {
     "name": "stdout",
     "output_type": "stream",
     "text": [
      "Tintu \n"
     ]
    }
   ],
   "source": [
    "Name2 = 'Tintu '\n",
    "print(Name2)"
   ]
  },
  {
   "cell_type": "code",
   "execution_count": 23,
   "id": "32a1815b",
   "metadata": {},
   "outputs": [
    {
     "name": "stdout",
     "output_type": "stream",
     "text": [
      "  Yashika  \n"
     ]
    }
   ],
   "source": [
    "Name3 = '  Yashika  '\n",
    "print(Name3)"
   ]
  },
  {
   "cell_type": "code",
   "execution_count": 24,
   "id": "df9c38f0",
   "metadata": {},
   "outputs": [
    {
     "data": {
      "text/plain": [
       "'Deeran'"
      ]
     },
     "execution_count": 24,
     "metadata": {},
     "output_type": "execute_result"
    }
   ],
   "source": [
    "Name.lstrip()"
   ]
  },
  {
   "cell_type": "code",
   "execution_count": 25,
   "id": "860ab4d8",
   "metadata": {},
   "outputs": [
    {
     "data": {
      "text/plain": [
       "'Tintu'"
      ]
     },
     "execution_count": 25,
     "metadata": {},
     "output_type": "execute_result"
    }
   ],
   "source": [
    "Name2.rstrip()"
   ]
  },
  {
   "cell_type": "code",
   "execution_count": 26,
   "id": "a0043d6e",
   "metadata": {},
   "outputs": [
    {
     "data": {
      "text/plain": [
       "'Yashika'"
      ]
     },
     "execution_count": 26,
     "metadata": {},
     "output_type": "execute_result"
    }
   ],
   "source": [
    "Name3.strip()"
   ]
  },
  {
   "cell_type": "code",
   "execution_count": null,
   "id": "c55c56ee",
   "metadata": {},
   "outputs": [],
   "source": []
  }
 ],
 "metadata": {
  "kernelspec": {
   "display_name": "Python 3 (ipykernel)",
   "language": "python",
   "name": "python3"
  },
  "language_info": {
   "codemirror_mode": {
    "name": "ipython",
    "version": 3
   },
   "file_extension": ".py",
   "mimetype": "text/x-python",
   "name": "python",
   "nbconvert_exporter": "python",
   "pygments_lexer": "ipython3",
   "version": "3.10.9"
  }
 },
 "nbformat": 4,
 "nbformat_minor": 5
}
