{
 "cells": [
  {
   "cell_type": "code",
   "execution_count": 1,
   "id": "002cd847",
   "metadata": {},
   "outputs": [],
   "source": [
    "Family = ['Deeran','Yashika','Jenisha','Tintu']"
   ]
  },
  {
   "cell_type": "code",
   "execution_count": 2,
   "id": "3c5694b7",
   "metadata": {},
   "outputs": [
    {
     "name": "stdout",
     "output_type": "stream",
     "text": [
      "['Deeran', 'Yashika', 'Jenisha', 'Tintu']\n"
     ]
    }
   ],
   "source": [
    "print(Family)"
   ]
  },
  {
   "cell_type": "code",
   "execution_count": 3,
   "id": "4dfe15e3",
   "metadata": {},
   "outputs": [
    {
     "data": {
      "text/plain": [
       "list"
      ]
     },
     "execution_count": 3,
     "metadata": {},
     "output_type": "execute_result"
    }
   ],
   "source": [
    "type(Family)"
   ]
  },
  {
   "cell_type": "code",
   "execution_count": 5,
   "id": "2506615c",
   "metadata": {},
   "outputs": [
    {
     "name": "stdout",
     "output_type": "stream",
     "text": [
      "Yashika\n"
     ]
    }
   ],
   "source": [
    "print(Family[1].title())"
   ]
  },
  {
   "cell_type": "code",
   "execution_count": 6,
   "id": "101c306f",
   "metadata": {},
   "outputs": [],
   "source": [
    "Family.append('Deepika')\n"
   ]
  },
  {
   "cell_type": "code",
   "execution_count": 7,
   "id": "c198c3e2",
   "metadata": {},
   "outputs": [
    {
     "name": "stdout",
     "output_type": "stream",
     "text": [
      "['Deeran', 'Yashika', 'Jenisha', 'Tintu', 'Deepika']\n"
     ]
    }
   ],
   "source": [
    "print(Family)"
   ]
  },
  {
   "cell_type": "code",
   "execution_count": 8,
   "id": "09eef82a",
   "metadata": {},
   "outputs": [
    {
     "name": "stdout",
     "output_type": "stream",
     "text": [
      "['Deeran', 'Yashika', 'Jenisha', 'Tintu', 'Mohan', 'Deepika']\n"
     ]
    }
   ],
   "source": [
    "Family.insert(4,'Mohan')\n",
    "print(Family)"
   ]
  },
  {
   "cell_type": "code",
   "execution_count": 9,
   "id": "9429e76e",
   "metadata": {},
   "outputs": [
    {
     "name": "stdout",
     "output_type": "stream",
     "text": [
      "['Deeran', 'Yashika', 'Jenisha', 'Tintu', 'Mohan', 'Sandhya']\n"
     ]
    }
   ],
   "source": [
    "Family[5] = 'Sandhya'\n",
    "print(Family)"
   ]
  },
  {
   "cell_type": "code",
   "execution_count": 10,
   "id": "135f7ffe",
   "metadata": {},
   "outputs": [
    {
     "name": "stdout",
     "output_type": "stream",
     "text": [
      "['Deeran', 'Yashika', 'Jenisha', 'Tintu', 'Mohan']\n"
     ]
    }
   ],
   "source": [
    "M = Family.pop(5)\n",
    "print(Family)"
   ]
  },
  {
   "cell_type": "code",
   "execution_count": 11,
   "id": "7966d77b",
   "metadata": {},
   "outputs": [
    {
     "name": "stdout",
     "output_type": "stream",
     "text": [
      "Sandhya\n"
     ]
    }
   ],
   "source": [
    "print(M)"
   ]
  },
  {
   "cell_type": "code",
   "execution_count": 12,
   "id": "a92c85e8",
   "metadata": {},
   "outputs": [
    {
     "name": "stdout",
     "output_type": "stream",
     "text": [
      "['Deeran', 'Yashika', 'Jenisha', 'Tintu']\n"
     ]
    }
   ],
   "source": [
    "del Family[4]\n",
    "print(Family)"
   ]
  },
  {
   "cell_type": "code",
   "execution_count": null,
   "id": "29c29438",
   "metadata": {},
   "outputs": [],
   "source": []
  }
 ],
 "metadata": {
  "kernelspec": {
   "display_name": "Python 3 (ipykernel)",
   "language": "python",
   "name": "python3"
  },
  "language_info": {
   "codemirror_mode": {
    "name": "ipython",
    "version": 3
   },
   "file_extension": ".py",
   "mimetype": "text/x-python",
   "name": "python",
   "nbconvert_exporter": "python",
   "pygments_lexer": "ipython3",
   "version": "3.10.9"
  }
 },
 "nbformat": 4,
 "nbformat_minor": 5
}
